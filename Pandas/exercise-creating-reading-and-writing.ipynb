{
 "cells": [
  {
   "cell_type": "markdown",
   "id": "4e166532",
   "metadata": {
    "papermill": {
     "duration": 0.00465,
     "end_time": "2025-05-24T16:07:58.982456",
     "exception": false,
     "start_time": "2025-05-24T16:07:58.977806",
     "status": "completed"
    },
    "tags": []
   },
   "source": [
    "**This notebook is an exercise in the [Pandas](https://www.kaggle.com/learn/pandas) course.  You can reference the tutorial at [this link](https://www.kaggle.com/residentmario/creating-reading-and-writing).**\n",
    "\n",
    "---\n"
   ]
  },
  {
   "cell_type": "markdown",
   "id": "60f60cdd",
   "metadata": {
    "papermill": {
     "duration": 0.003531,
     "end_time": "2025-05-24T16:07:58.990533",
     "exception": false,
     "start_time": "2025-05-24T16:07:58.987002",
     "status": "completed"
    },
    "tags": []
   },
   "source": [
    "# Introduction\n",
    "\n",
    "The first step in most data analytics projects is reading the data file. In this exercise, you'll create Series and DataFrame objects, both by hand and by reading data files.\n",
    "\n",
    "Run the code cell below to load libraries you will need (including code to check your answers)."
   ]
  },
  {
   "cell_type": "code",
   "execution_count": 1,
   "id": "04585617",
   "metadata": {
    "execution": {
     "iopub.execute_input": "2025-05-24T16:07:58.999537Z",
     "iopub.status.busy": "2025-05-24T16:07:58.999150Z",
     "iopub.status.idle": "2025-05-24T16:08:02.850170Z",
     "shell.execute_reply": "2025-05-24T16:08:02.849135Z"
    },
    "papermill": {
     "duration": 3.857331,
     "end_time": "2025-05-24T16:08:02.851661",
     "exception": false,
     "start_time": "2025-05-24T16:07:58.994330",
     "status": "completed"
    },
    "tags": []
   },
   "outputs": [
    {
     "name": "stdout",
     "output_type": "stream",
     "text": [
      "Setup complete.\n"
     ]
    }
   ],
   "source": [
    "import pandas as pd\n",
    "pd.set_option('display.max_rows', 5)\n",
    "from learntools.core import binder; binder.bind(globals())\n",
    "from learntools.pandas.creating_reading_and_writing import *\n",
    "print(\"Setup complete.\")"
   ]
  },
  {
   "cell_type": "markdown",
   "id": "a39c078a",
   "metadata": {
    "papermill": {
     "duration": 0.003641,
     "end_time": "2025-05-24T16:08:02.859106",
     "exception": false,
     "start_time": "2025-05-24T16:08:02.855465",
     "status": "completed"
    },
    "tags": []
   },
   "source": [
    "# Exercises"
   ]
  },
  {
   "cell_type": "markdown",
   "id": "3dfe720c",
   "metadata": {
    "papermill": {
     "duration": 0.003285,
     "end_time": "2025-05-24T16:08:02.866029",
     "exception": false,
     "start_time": "2025-05-24T16:08:02.862744",
     "status": "completed"
    },
    "tags": []
   },
   "source": [
    "## 1.\n",
    "\n",
    "In the cell below, create a DataFrame `fruits` that looks like this:\n",
    "\n",
    "![](https://storage.googleapis.com/kaggle-media/learn/images/Ax3pp2A.png)"
   ]
  },
  {
   "cell_type": "code",
   "execution_count": 2,
   "id": "a2ada55d",
   "metadata": {
    "execution": {
     "iopub.execute_input": "2025-05-24T16:08:02.874870Z",
     "iopub.status.busy": "2025-05-24T16:08:02.874495Z",
     "iopub.status.idle": "2025-05-24T16:08:02.900431Z",
     "shell.execute_reply": "2025-05-24T16:08:02.899524Z"
    },
    "papermill": {
     "duration": 0.03241,
     "end_time": "2025-05-24T16:08:02.902012",
     "exception": false,
     "start_time": "2025-05-24T16:08:02.869602",
     "status": "completed"
    },
    "tags": []
   },
   "outputs": [
    {
     "data": {
      "application/javascript": [
       "parent.postMessage({\"jupyterEvent\": \"custom.exercise_interaction\", \"data\": {\"outcomeType\": 1, \"valueTowardsCompletion\": 0.16666666666666666, \"interactionType\": 1, \"questionType\": 1, \"questionId\": \"1_FruitDfCreation\", \"learnToolsVersion\": \"0.3.5\", \"failureMessage\": \"\", \"exceptionClass\": \"\", \"trace\": \"\"}}, \"*\")"
      ],
      "text/plain": [
       "<IPython.core.display.Javascript object>"
      ]
     },
     "metadata": {},
     "output_type": "display_data"
    },
    {
     "data": {
      "text/markdown": [
       "<span style=\"color:#33cc33\">Correct</span>"
      ],
      "text/plain": [
       "Correct"
      ]
     },
     "metadata": {},
     "output_type": "display_data"
    },
    {
     "data": {
      "text/html": [
       "<div>\n",
       "<style scoped>\n",
       "    .dataframe tbody tr th:only-of-type {\n",
       "        vertical-align: middle;\n",
       "    }\n",
       "\n",
       "    .dataframe tbody tr th {\n",
       "        vertical-align: top;\n",
       "    }\n",
       "\n",
       "    .dataframe thead th {\n",
       "        text-align: right;\n",
       "    }\n",
       "</style>\n",
       "<table border=\"1\" class=\"dataframe\">\n",
       "  <thead>\n",
       "    <tr style=\"text-align: right;\">\n",
       "      <th></th>\n",
       "      <th>Apples</th>\n",
       "      <th>Bananas</th>\n",
       "    </tr>\n",
       "  </thead>\n",
       "  <tbody>\n",
       "    <tr>\n",
       "      <th>0</th>\n",
       "      <td>30</td>\n",
       "      <td>21</td>\n",
       "    </tr>\n",
       "  </tbody>\n",
       "</table>\n",
       "</div>"
      ],
      "text/plain": [
       "   Apples  Bananas\n",
       "0      30       21"
      ]
     },
     "execution_count": 2,
     "metadata": {},
     "output_type": "execute_result"
    }
   ],
   "source": [
    "# Your code goes here. Create a dataframe matching the above diagram and assign it to the variable fruits.\n",
    "fruits = pd.DataFrame({'Apples':[30], 'Bananas':[21]})\n",
    "\n",
    "# Check your answer\n",
    "q1.check()\n",
    "fruits"
   ]
  },
  {
   "cell_type": "code",
   "execution_count": 3,
   "id": "308d6ec9",
   "metadata": {
    "execution": {
     "iopub.execute_input": "2025-05-24T16:08:02.911374Z",
     "iopub.status.busy": "2025-05-24T16:08:02.911047Z",
     "iopub.status.idle": "2025-05-24T16:08:02.915023Z",
     "shell.execute_reply": "2025-05-24T16:08:02.914114Z"
    },
    "papermill": {
     "duration": 0.010231,
     "end_time": "2025-05-24T16:08:02.916415",
     "exception": false,
     "start_time": "2025-05-24T16:08:02.906184",
     "status": "completed"
    },
    "tags": []
   },
   "outputs": [],
   "source": [
    "#q1.hint()\n",
    "#q1.solution()"
   ]
  },
  {
   "cell_type": "markdown",
   "id": "9c64a919",
   "metadata": {
    "papermill": {
     "duration": 0.003761,
     "end_time": "2025-05-24T16:08:02.924219",
     "exception": false,
     "start_time": "2025-05-24T16:08:02.920458",
     "status": "completed"
    },
    "tags": []
   },
   "source": [
    "## 2.\n",
    "\n",
    "Create a dataframe `fruit_sales` that matches the diagram below:\n",
    "\n",
    "![](https://storage.googleapis.com/kaggle-media/learn/images/CHPn7ZF.png)"
   ]
  },
  {
   "cell_type": "code",
   "execution_count": 4,
   "id": "093ce8f9",
   "metadata": {
    "execution": {
     "iopub.execute_input": "2025-05-24T16:08:02.934148Z",
     "iopub.status.busy": "2025-05-24T16:08:02.933387Z",
     "iopub.status.idle": "2025-05-24T16:08:02.946998Z",
     "shell.execute_reply": "2025-05-24T16:08:02.945840Z"
    },
    "papermill": {
     "duration": 0.02037,
     "end_time": "2025-05-24T16:08:02.948654",
     "exception": false,
     "start_time": "2025-05-24T16:08:02.928284",
     "status": "completed"
    },
    "tags": []
   },
   "outputs": [
    {
     "data": {
      "application/javascript": [
       "parent.postMessage({\"jupyterEvent\": \"custom.exercise_interaction\", \"data\": {\"outcomeType\": 2, \"failureMessage\": \"Incorrect value for `fruit_sales`\", \"interactionType\": 1, \"questionType\": 1, \"questionId\": \"2_FruitSalesDfCreation\", \"learnToolsVersion\": \"0.3.5\", \"valueTowardsCompletion\": 0.0, \"exceptionClass\": \"\", \"trace\": \"\"}}, \"*\")"
      ],
      "text/plain": [
       "<IPython.core.display.Javascript object>"
      ]
     },
     "metadata": {},
     "output_type": "display_data"
    },
    {
     "data": {
      "text/markdown": [
       "<span style=\"color:#cc3333\">Incorrect:</span> Incorrect value for `fruit_sales`"
      ],
      "text/plain": [
       "Incorrect: Incorrect value for `fruit_sales`"
      ]
     },
     "metadata": {},
     "output_type": "display_data"
    },
    {
     "data": {
      "text/html": [
       "<div>\n",
       "<style scoped>\n",
       "    .dataframe tbody tr th:only-of-type {\n",
       "        vertical-align: middle;\n",
       "    }\n",
       "\n",
       "    .dataframe tbody tr th {\n",
       "        vertical-align: top;\n",
       "    }\n",
       "\n",
       "    .dataframe thead th {\n",
       "        text-align: right;\n",
       "    }\n",
       "</style>\n",
       "<table border=\"1\" class=\"dataframe\">\n",
       "  <thead>\n",
       "    <tr style=\"text-align: right;\">\n",
       "      <th></th>\n",
       "      <th>Apples</th>\n",
       "      <th>Bananas</th>\n",
       "    </tr>\n",
       "  </thead>\n",
       "  <tbody>\n",
       "    <tr>\n",
       "      <th>0</th>\n",
       "      <td>35</td>\n",
       "      <td>21</td>\n",
       "    </tr>\n",
       "    <tr>\n",
       "      <th>1</th>\n",
       "      <td>41</td>\n",
       "      <td>34</td>\n",
       "    </tr>\n",
       "  </tbody>\n",
       "</table>\n",
       "</div>"
      ],
      "text/plain": [
       "   Apples  Bananas\n",
       "0      35       21\n",
       "1      41       34"
      ]
     },
     "execution_count": 4,
     "metadata": {},
     "output_type": "execute_result"
    }
   ],
   "source": [
    "# Your code goes here. Create a dataframe matching the above diagram and assign it to the variable fruit_sales.\n",
    "fruit_sales = pd.DataFrame({\"Apples\": [35,41], \"Bananas\": [21,34]})\n",
    "\n",
    "# Check your answer\n",
    "q2.check()\n",
    "fruit_sales"
   ]
  },
  {
   "cell_type": "code",
   "execution_count": 5,
   "id": "32ce71f7",
   "metadata": {
    "execution": {
     "iopub.execute_input": "2025-05-24T16:08:02.958760Z",
     "iopub.status.busy": "2025-05-24T16:08:02.958467Z",
     "iopub.status.idle": "2025-05-24T16:08:02.962556Z",
     "shell.execute_reply": "2025-05-24T16:08:02.961737Z"
    },
    "papermill": {
     "duration": 0.010936,
     "end_time": "2025-05-24T16:08:02.964117",
     "exception": false,
     "start_time": "2025-05-24T16:08:02.953181",
     "status": "completed"
    },
    "tags": []
   },
   "outputs": [],
   "source": [
    "#q2.hint()\n",
    "#q2.solution()"
   ]
  },
  {
   "cell_type": "markdown",
   "id": "4eff8ef5",
   "metadata": {
    "papermill": {
     "duration": 0.004442,
     "end_time": "2025-05-24T16:08:02.973473",
     "exception": false,
     "start_time": "2025-05-24T16:08:02.969031",
     "status": "completed"
    },
    "tags": []
   },
   "source": [
    "## 3.\n",
    "\n",
    "Create a variable `ingredients` with a Series that looks like:\n",
    "\n",
    "```\n",
    "Flour     4 cups\n",
    "Milk       1 cup\n",
    "Eggs     2 large\n",
    "Spam       1 can\n",
    "Name: Dinner, dtype: object\n",
    "```"
   ]
  },
  {
   "cell_type": "code",
   "execution_count": 6,
   "id": "25264239",
   "metadata": {
    "execution": {
     "iopub.execute_input": "2025-05-24T16:08:02.983358Z",
     "iopub.status.busy": "2025-05-24T16:08:02.983055Z",
     "iopub.status.idle": "2025-05-24T16:08:02.991554Z",
     "shell.execute_reply": "2025-05-24T16:08:02.990829Z"
    },
    "papermill": {
     "duration": 0.015307,
     "end_time": "2025-05-24T16:08:02.993046",
     "exception": false,
     "start_time": "2025-05-24T16:08:02.977739",
     "status": "completed"
    },
    "tags": []
   },
   "outputs": [
    {
     "data": {
      "application/javascript": [
       "parent.postMessage({\"jupyterEvent\": \"custom.exercise_interaction\", \"data\": {\"outcomeType\": 4, \"interactionType\": 1, \"questionType\": 2, \"questionId\": \"3_RecipeSeriesCreation\", \"learnToolsVersion\": \"0.3.5\", \"valueTowardsCompletion\": 0.0, \"failureMessage\": \"\", \"exceptionClass\": \"\", \"trace\": \"\"}}, \"*\")"
      ],
      "text/plain": [
       "<IPython.core.display.Javascript object>"
      ]
     },
     "metadata": {},
     "output_type": "display_data"
    },
    {
     "data": {
      "text/markdown": [
       "<span style=\"color:#ccaa33\">Check:</span> When you've updated the starter code, `check()` will tell you whether your code is correct. You need to update the code that creates variable `ingredients`"
      ],
      "text/plain": [
       "Check: When you've updated the starter code, `check()` will tell you whether your code is correct. You need to update the code that creates variable `ingredients`"
      ]
     },
     "metadata": {},
     "output_type": "display_data"
    },
    {
     "data": {
      "text/markdown": [],
      "text/plain": [
       "<learntools.core.constants.PlaceholderValue at 0x7b706636f9d0>"
      ]
     },
     "execution_count": 6,
     "metadata": {},
     "output_type": "execute_result"
    }
   ],
   "source": [
    "ingredients = ____\n",
    "\n",
    "# Check your answer\n",
    "q3.check()\n",
    "ingredients"
   ]
  },
  {
   "cell_type": "code",
   "execution_count": 7,
   "id": "b9a2b059",
   "metadata": {
    "execution": {
     "iopub.execute_input": "2025-05-24T16:08:03.004711Z",
     "iopub.status.busy": "2025-05-24T16:08:03.004160Z",
     "iopub.status.idle": "2025-05-24T16:08:03.008157Z",
     "shell.execute_reply": "2025-05-24T16:08:03.007271Z"
    },
    "papermill": {
     "duration": 0.011215,
     "end_time": "2025-05-24T16:08:03.009624",
     "exception": false,
     "start_time": "2025-05-24T16:08:02.998409",
     "status": "completed"
    },
    "tags": []
   },
   "outputs": [],
   "source": [
    "#q3.hint()\n",
    "#q3.solution()"
   ]
  },
  {
   "cell_type": "markdown",
   "id": "e0599b21",
   "metadata": {
    "papermill": {
     "duration": 0.005074,
     "end_time": "2025-05-24T16:08:03.019562",
     "exception": false,
     "start_time": "2025-05-24T16:08:03.014488",
     "status": "completed"
    },
    "tags": []
   },
   "source": [
    "## 4.\n",
    "\n",
    "Read the following csv dataset of wine reviews into a DataFrame called `reviews`:\n",
    "\n",
    "![](https://storage.googleapis.com/kaggle-media/learn/images/74RCZtU.png)\n",
    "\n",
    "The filepath to the csv file is `../input/wine-reviews/winemag-data_first150k.csv`. The first few lines look like:\n",
    "\n",
    "```\n",
    ",country,description,designation,points,price,province,region_1,region_2,variety,winery\n",
    "0,US,\"This tremendous 100% varietal wine[...]\",Martha's Vineyard,96,235.0,California,Napa Valley,Napa,Cabernet Sauvignon,Heitz\n",
    "1,Spain,\"Ripe aromas of fig, blackberry and[...]\",Carodorum Selección Especial Reserva,96,110.0,Northern Spain,Toro,,Tinta de Toro,Bodega Carmen Rodríguez\n",
    "```"
   ]
  },
  {
   "cell_type": "code",
   "execution_count": 8,
   "id": "6581c0e0",
   "metadata": {
    "execution": {
     "iopub.execute_input": "2025-05-24T16:08:03.030189Z",
     "iopub.status.busy": "2025-05-24T16:08:03.029840Z",
     "iopub.status.idle": "2025-05-24T16:08:03.039410Z",
     "shell.execute_reply": "2025-05-24T16:08:03.038168Z"
    },
    "papermill": {
     "duration": 0.017117,
     "end_time": "2025-05-24T16:08:03.041297",
     "exception": false,
     "start_time": "2025-05-24T16:08:03.024180",
     "status": "completed"
    },
    "tags": []
   },
   "outputs": [
    {
     "data": {
      "application/javascript": [
       "parent.postMessage({\"jupyterEvent\": \"custom.exercise_interaction\", \"data\": {\"outcomeType\": 4, \"interactionType\": 1, \"questionType\": 1, \"questionId\": \"4_ReadWineCsv\", \"learnToolsVersion\": \"0.3.5\", \"valueTowardsCompletion\": 0.0, \"failureMessage\": \"\", \"exceptionClass\": \"\", \"trace\": \"\"}}, \"*\")"
      ],
      "text/plain": [
       "<IPython.core.display.Javascript object>"
      ]
     },
     "metadata": {},
     "output_type": "display_data"
    },
    {
     "data": {
      "text/markdown": [
       "<span style=\"color:#ccaa33\">Check:</span> When you've updated the starter code, `check()` will tell you whether your code is correct. You need to update the code that creates variable `reviews`"
      ],
      "text/plain": [
       "Check: When you've updated the starter code, `check()` will tell you whether your code is correct. You need to update the code that creates variable `reviews`"
      ]
     },
     "metadata": {},
     "output_type": "display_data"
    },
    {
     "data": {
      "text/markdown": [],
      "text/plain": [
       "<learntools.core.constants.PlaceholderValue at 0x7b706636f9d0>"
      ]
     },
     "execution_count": 8,
     "metadata": {},
     "output_type": "execute_result"
    }
   ],
   "source": [
    "reviews = ____\n",
    "\n",
    "# Check your answer\n",
    "q4.check()\n",
    "reviews"
   ]
  },
  {
   "cell_type": "code",
   "execution_count": 9,
   "id": "f2beb55d",
   "metadata": {
    "execution": {
     "iopub.execute_input": "2025-05-24T16:08:03.053423Z",
     "iopub.status.busy": "2025-05-24T16:08:03.053103Z",
     "iopub.status.idle": "2025-05-24T16:08:03.057163Z",
     "shell.execute_reply": "2025-05-24T16:08:03.056035Z"
    },
    "papermill": {
     "duration": 0.012122,
     "end_time": "2025-05-24T16:08:03.058711",
     "exception": false,
     "start_time": "2025-05-24T16:08:03.046589",
     "status": "completed"
    },
    "tags": []
   },
   "outputs": [],
   "source": [
    "#q4.hint()\n",
    "#q4.solution()"
   ]
  },
  {
   "cell_type": "markdown",
   "id": "c45e8ce4",
   "metadata": {
    "papermill": {
     "duration": 0.00471,
     "end_time": "2025-05-24T16:08:03.068670",
     "exception": false,
     "start_time": "2025-05-24T16:08:03.063960",
     "status": "completed"
    },
    "tags": []
   },
   "source": [
    "## 5.\n",
    "\n",
    "Run the cell below to create and display a DataFrame called `animals`:"
   ]
  },
  {
   "cell_type": "code",
   "execution_count": 10,
   "id": "5866c57d",
   "metadata": {
    "execution": {
     "iopub.execute_input": "2025-05-24T16:08:03.080231Z",
     "iopub.status.busy": "2025-05-24T16:08:03.079864Z",
     "iopub.status.idle": "2025-05-24T16:08:03.089444Z",
     "shell.execute_reply": "2025-05-24T16:08:03.088431Z"
    },
    "papermill": {
     "duration": 0.017311,
     "end_time": "2025-05-24T16:08:03.090997",
     "exception": false,
     "start_time": "2025-05-24T16:08:03.073686",
     "status": "completed"
    },
    "tags": []
   },
   "outputs": [
    {
     "data": {
      "text/html": [
       "<div>\n",
       "<style scoped>\n",
       "    .dataframe tbody tr th:only-of-type {\n",
       "        vertical-align: middle;\n",
       "    }\n",
       "\n",
       "    .dataframe tbody tr th {\n",
       "        vertical-align: top;\n",
       "    }\n",
       "\n",
       "    .dataframe thead th {\n",
       "        text-align: right;\n",
       "    }\n",
       "</style>\n",
       "<table border=\"1\" class=\"dataframe\">\n",
       "  <thead>\n",
       "    <tr style=\"text-align: right;\">\n",
       "      <th></th>\n",
       "      <th>Cows</th>\n",
       "      <th>Goats</th>\n",
       "    </tr>\n",
       "  </thead>\n",
       "  <tbody>\n",
       "    <tr>\n",
       "      <th>Year 1</th>\n",
       "      <td>12</td>\n",
       "      <td>22</td>\n",
       "    </tr>\n",
       "    <tr>\n",
       "      <th>Year 2</th>\n",
       "      <td>20</td>\n",
       "      <td>19</td>\n",
       "    </tr>\n",
       "  </tbody>\n",
       "</table>\n",
       "</div>"
      ],
      "text/plain": [
       "        Cows  Goats\n",
       "Year 1    12     22\n",
       "Year 2    20     19"
      ]
     },
     "execution_count": 10,
     "metadata": {},
     "output_type": "execute_result"
    }
   ],
   "source": [
    "animals = pd.DataFrame({'Cows': [12, 20], 'Goats': [22, 19]}, index=['Year 1', 'Year 2'])\n",
    "animals"
   ]
  },
  {
   "cell_type": "markdown",
   "id": "885c1a79",
   "metadata": {
    "papermill": {
     "duration": 0.004782,
     "end_time": "2025-05-24T16:08:03.101168",
     "exception": false,
     "start_time": "2025-05-24T16:08:03.096386",
     "status": "completed"
    },
    "tags": []
   },
   "source": [
    "In the cell below, write code to save this DataFrame to disk as a csv file with the name `cows_and_goats.csv`."
   ]
  },
  {
   "cell_type": "code",
   "execution_count": 11,
   "id": "403c8fa6",
   "metadata": {
    "execution": {
     "iopub.execute_input": "2025-05-24T16:08:03.113912Z",
     "iopub.status.busy": "2025-05-24T16:08:03.113572Z",
     "iopub.status.idle": "2025-05-24T16:08:03.121272Z",
     "shell.execute_reply": "2025-05-24T16:08:03.120460Z"
    },
    "papermill": {
     "duration": 0.015374,
     "end_time": "2025-05-24T16:08:03.122672",
     "exception": false,
     "start_time": "2025-05-24T16:08:03.107298",
     "status": "completed"
    },
    "tags": []
   },
   "outputs": [
    {
     "data": {
      "application/javascript": [
       "parent.postMessage({\"jupyterEvent\": \"custom.exercise_interaction\", \"data\": {\"outcomeType\": 2, \"failureMessage\": \"Expected file to exist with name `cows_and_goats.csv`\", \"interactionType\": 1, \"questionType\": 2, \"questionId\": \"5_SaveAnimalsCsv\", \"learnToolsVersion\": \"0.3.5\", \"valueTowardsCompletion\": 0.0, \"exceptionClass\": \"\", \"trace\": \"\"}}, \"*\")"
      ],
      "text/plain": [
       "<IPython.core.display.Javascript object>"
      ]
     },
     "metadata": {},
     "output_type": "display_data"
    },
    {
     "data": {
      "text/markdown": [
       "<span style=\"color:#cc3333\">Incorrect:</span> Expected file to exist with name `cows_and_goats.csv`"
      ],
      "text/plain": [
       "Incorrect: Expected file to exist with name `cows_and_goats.csv`"
      ]
     },
     "metadata": {},
     "output_type": "display_data"
    }
   ],
   "source": [
    "# Your code goes here\n",
    "\n",
    "# Check your answer\n",
    "q5.check()"
   ]
  },
  {
   "cell_type": "code",
   "execution_count": 12,
   "id": "4d3f06f5",
   "metadata": {
    "execution": {
     "iopub.execute_input": "2025-05-24T16:08:03.135671Z",
     "iopub.status.busy": "2025-05-24T16:08:03.135356Z",
     "iopub.status.idle": "2025-05-24T16:08:03.139854Z",
     "shell.execute_reply": "2025-05-24T16:08:03.138893Z"
    },
    "papermill": {
     "duration": 0.012508,
     "end_time": "2025-05-24T16:08:03.141428",
     "exception": false,
     "start_time": "2025-05-24T16:08:03.128920",
     "status": "completed"
    },
    "tags": []
   },
   "outputs": [],
   "source": [
    "#q5.hint()\n",
    "#q5.solution()"
   ]
  },
  {
   "cell_type": "markdown",
   "id": "3943f7cd",
   "metadata": {
    "papermill": {
     "duration": 0.005346,
     "end_time": "2025-05-24T16:08:03.152398",
     "exception": false,
     "start_time": "2025-05-24T16:08:03.147052",
     "status": "completed"
    },
    "tags": []
   },
   "source": [
    "# Keep going\n",
    "\n",
    "Move on to learn about **[indexing, selecting and assigning](https://www.kaggle.com/residentmario/indexing-selecting-assigning)**."
   ]
  },
  {
   "cell_type": "markdown",
   "id": "f4c478a1",
   "metadata": {
    "papermill": {
     "duration": 0.005168,
     "end_time": "2025-05-24T16:08:03.162960",
     "exception": false,
     "start_time": "2025-05-24T16:08:03.157792",
     "status": "completed"
    },
    "tags": []
   },
   "source": [
    "---\n",
    "\n",
    "\n",
    "\n",
    "\n",
    "*Have questions or comments? Visit the [course discussion forum](https://www.kaggle.com/learn/pandas/discussion) to chat with other learners.*"
   ]
  }
 ],
 "metadata": {
  "kaggle": {
   "accelerator": "none",
   "dataSources": [
    {
     "datasetId": 655,
     "sourceId": 1252,
     "sourceType": "datasetVersion"
    },
    {
     "datasetId": 2321,
     "sourceId": 3919,
     "sourceType": "datasetVersion"
    },
    {
     "datasetId": 2894,
     "sourceId": 4877,
     "sourceType": "datasetVersion"
    },
    {
     "datasetId": 3491,
     "sourceId": 5624,
     "sourceType": "datasetVersion"
    },
    {
     "datasetId": 1442,
     "sourceId": 8172,
     "sourceType": "datasetVersion"
    },
    {
     "datasetId": 9366,
     "sourceId": 13206,
     "sourceType": "datasetVersion"
    },
    {
     "datasetId": 179555,
     "sourceId": 403916,
     "sourceType": "datasetVersion"
    },
    {
     "datasetId": 4549,
     "sourceId": 466349,
     "sourceType": "datasetVersion"
    },
    {
     "datasetId": 2478,
     "sourceId": 1151655,
     "sourceType": "datasetVersion"
    },
    {
     "datasetId": 10128,
     "sourceId": 5438389,
     "sourceType": "datasetVersion"
    }
   ],
   "isGpuEnabled": false,
   "isInternetEnabled": false,
   "language": "python",
   "sourceType": "notebook"
  },
  "kernelspec": {
   "display_name": "Python 3",
   "language": "python",
   "name": "python3"
  },
  "language_info": {
   "codemirror_mode": {
    "name": "ipython",
    "version": 3
   },
   "file_extension": ".py",
   "mimetype": "text/x-python",
   "name": "python",
   "nbconvert_exporter": "python",
   "pygments_lexer": "ipython3",
   "version": "3.11.11"
  },
  "papermill": {
   "default_parameters": {},
   "duration": 10.144035,
   "end_time": "2025-05-24T16:08:03.790842",
   "environment_variables": {},
   "exception": null,
   "input_path": "__notebook__.ipynb",
   "output_path": "__notebook__.ipynb",
   "parameters": {},
   "start_time": "2025-05-24T16:07:53.646807",
   "version": "2.6.0"
  }
 },
 "nbformat": 4,
 "nbformat_minor": 5
}
