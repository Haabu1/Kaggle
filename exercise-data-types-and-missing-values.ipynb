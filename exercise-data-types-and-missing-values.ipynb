{
 "cells": [
  {
   "cell_type": "markdown",
   "id": "b2538e45",
   "metadata": {
    "papermill": {
     "duration": 0.004744,
     "end_time": "2025-05-25T09:39:13.651783",
     "exception": false,
     "start_time": "2025-05-25T09:39:13.647039",
     "status": "completed"
    },
    "tags": []
   },
   "source": [
    "**This notebook is an exercise in the [Pandas](https://www.kaggle.com/learn/pandas) course.  You can reference the tutorial at [this link](https://www.kaggle.com/residentmario/data-types-and-missing-values).**\n",
    "\n",
    "---\n"
   ]
  },
  {
   "cell_type": "markdown",
   "id": "d9aab743",
   "metadata": {
    "papermill": {
     "duration": 0.003304,
     "end_time": "2025-05-25T09:39:13.659003",
     "exception": false,
     "start_time": "2025-05-25T09:39:13.655699",
     "status": "completed"
    },
    "tags": []
   },
   "source": [
    "# Introduction\n",
    "\n",
    "Run the following cell to load your data and some utility functions."
   ]
  },
  {
   "cell_type": "code",
   "execution_count": 1,
   "id": "56fe0fb6",
   "metadata": {
    "execution": {
     "iopub.execute_input": "2025-05-25T09:39:13.667696Z",
     "iopub.status.busy": "2025-05-25T09:39:13.667300Z",
     "iopub.status.idle": "2025-05-25T09:39:19.293272Z",
     "shell.execute_reply": "2025-05-25T09:39:19.292115Z"
    },
    "papermill": {
     "duration": 5.632539,
     "end_time": "2025-05-25T09:39:19.295218",
     "exception": false,
     "start_time": "2025-05-25T09:39:13.662679",
     "status": "completed"
    },
    "tags": []
   },
   "outputs": [
    {
     "name": "stdout",
     "output_type": "stream",
     "text": [
      "Setup complete.\n"
     ]
    }
   ],
   "source": [
    "import pandas as pd\n",
    "\n",
    "reviews = pd.read_csv(\"../input/wine-reviews/winemag-data-130k-v2.csv\", index_col=0)\n",
    "\n",
    "from learntools.core import binder; binder.bind(globals())\n",
    "from learntools.pandas.data_types_and_missing_data import *\n",
    "print(\"Setup complete.\")"
   ]
  },
  {
   "cell_type": "markdown",
   "id": "1b89525a",
   "metadata": {
    "papermill": {
     "duration": 0.003545,
     "end_time": "2025-05-25T09:39:19.302804",
     "exception": false,
     "start_time": "2025-05-25T09:39:19.299259",
     "status": "completed"
    },
    "tags": []
   },
   "source": [
    "# Exercises"
   ]
  },
  {
   "cell_type": "markdown",
   "id": "7122a45b",
   "metadata": {
    "papermill": {
     "duration": 0.003648,
     "end_time": "2025-05-25T09:39:19.309952",
     "exception": false,
     "start_time": "2025-05-25T09:39:19.306304",
     "status": "completed"
    },
    "tags": []
   },
   "source": [
    "## 1. \n",
    "What is the data type of the `points` column in the dataset?"
   ]
  },
  {
   "cell_type": "code",
   "execution_count": 2,
   "id": "8f4c9229",
   "metadata": {
    "execution": {
     "iopub.execute_input": "2025-05-25T09:39:19.318568Z",
     "iopub.status.busy": "2025-05-25T09:39:19.318181Z",
     "iopub.status.idle": "2025-05-25T09:39:19.326964Z",
     "shell.execute_reply": "2025-05-25T09:39:19.325944Z"
    },
    "papermill": {
     "duration": 0.015152,
     "end_time": "2025-05-25T09:39:19.328653",
     "exception": false,
     "start_time": "2025-05-25T09:39:19.313501",
     "status": "completed"
    },
    "tags": []
   },
   "outputs": [
    {
     "data": {
      "application/javascript": [
       "parent.postMessage({\"jupyterEvent\": \"custom.exercise_interaction\", \"data\": {\"outcomeType\": 1, \"valueTowardsCompletion\": 0.25, \"interactionType\": 1, \"questionType\": 1, \"questionId\": \"1_PointsDtype\", \"learnToolsVersion\": \"0.3.5\", \"failureMessage\": \"\", \"exceptionClass\": \"\", \"trace\": \"\"}}, \"*\")"
      ],
      "text/plain": [
       "<IPython.core.display.Javascript object>"
      ]
     },
     "metadata": {},
     "output_type": "display_data"
    },
    {
     "data": {
      "text/markdown": [
       "<span style=\"color:#33cc33\">Correct</span>"
      ],
      "text/plain": [
       "Correct"
      ]
     },
     "metadata": {},
     "output_type": "display_data"
    }
   ],
   "source": [
    "# Your code here\n",
    "dtype = reviews.points.dtype\n",
    "\n",
    "# Check your answer\n",
    "q1.check()"
   ]
  },
  {
   "cell_type": "code",
   "execution_count": 3,
   "id": "c61aa311",
   "metadata": {
    "execution": {
     "iopub.execute_input": "2025-05-25T09:39:19.338250Z",
     "iopub.status.busy": "2025-05-25T09:39:19.337936Z",
     "iopub.status.idle": "2025-05-25T09:39:19.342530Z",
     "shell.execute_reply": "2025-05-25T09:39:19.341211Z"
    },
    "papermill": {
     "duration": 0.011628,
     "end_time": "2025-05-25T09:39:19.344331",
     "exception": false,
     "start_time": "2025-05-25T09:39:19.332703",
     "status": "completed"
    },
    "tags": []
   },
   "outputs": [],
   "source": [
    "#q1.hint()\n",
    "#q1.solution()"
   ]
  },
  {
   "cell_type": "markdown",
   "id": "ccfa7f1e",
   "metadata": {
    "papermill": {
     "duration": 0.003854,
     "end_time": "2025-05-25T09:39:19.352287",
     "exception": false,
     "start_time": "2025-05-25T09:39:19.348433",
     "status": "completed"
    },
    "tags": []
   },
   "source": [
    "## 2. \n",
    "Create a Series from entries in the `points` column, but convert the entries to strings. Hint: strings are `str` in native Python."
   ]
  },
  {
   "cell_type": "code",
   "execution_count": 4,
   "id": "e318332b",
   "metadata": {
    "execution": {
     "iopub.execute_input": "2025-05-25T09:39:19.362534Z",
     "iopub.status.busy": "2025-05-25T09:39:19.362217Z",
     "iopub.status.idle": "2025-05-25T09:39:19.410881Z",
     "shell.execute_reply": "2025-05-25T09:39:19.409463Z"
    },
    "papermill": {
     "duration": 0.0561,
     "end_time": "2025-05-25T09:39:19.413055",
     "exception": false,
     "start_time": "2025-05-25T09:39:19.356955",
     "status": "completed"
    },
    "tags": []
   },
   "outputs": [
    {
     "data": {
      "application/javascript": [
       "parent.postMessage({\"jupyterEvent\": \"custom.exercise_interaction\", \"data\": {\"outcomeType\": 1, \"valueTowardsCompletion\": 0.25, \"interactionType\": 1, \"questionType\": 1, \"questionId\": \"2_StrPoints\", \"learnToolsVersion\": \"0.3.5\", \"failureMessage\": \"\", \"exceptionClass\": \"\", \"trace\": \"\"}}, \"*\")"
      ],
      "text/plain": [
       "<IPython.core.display.Javascript object>"
      ]
     },
     "metadata": {},
     "output_type": "display_data"
    },
    {
     "data": {
      "text/markdown": [
       "<span style=\"color:#33cc33\">Correct</span>"
      ],
      "text/plain": [
       "Correct"
      ]
     },
     "metadata": {},
     "output_type": "display_data"
    }
   ],
   "source": [
    "point_strings = reviews.points.astype(str)\n",
    "\n",
    "# Check your answer\n",
    "q2.check()"
   ]
  },
  {
   "cell_type": "code",
   "execution_count": 5,
   "id": "7bb7be00",
   "metadata": {
    "execution": {
     "iopub.execute_input": "2025-05-25T09:39:19.423098Z",
     "iopub.status.busy": "2025-05-25T09:39:19.422569Z",
     "iopub.status.idle": "2025-05-25T09:39:19.429540Z",
     "shell.execute_reply": "2025-05-25T09:39:19.427539Z"
    },
    "papermill": {
     "duration": 0.014593,
     "end_time": "2025-05-25T09:39:19.431943",
     "exception": false,
     "start_time": "2025-05-25T09:39:19.417350",
     "status": "completed"
    },
    "tags": []
   },
   "outputs": [],
   "source": [
    "#q2.hint()\n",
    "#q2.solution()"
   ]
  },
  {
   "cell_type": "markdown",
   "id": "a80a3e4e",
   "metadata": {
    "papermill": {
     "duration": 0.004015,
     "end_time": "2025-05-25T09:39:19.440318",
     "exception": false,
     "start_time": "2025-05-25T09:39:19.436303",
     "status": "completed"
    },
    "tags": []
   },
   "source": [
    "## 3.\n",
    "Sometimes the price column is null. How many reviews in the dataset are missing a price?"
   ]
  },
  {
   "cell_type": "code",
   "execution_count": 6,
   "id": "1abc8737",
   "metadata": {
    "execution": {
     "iopub.execute_input": "2025-05-25T09:39:19.449533Z",
     "iopub.status.busy": "2025-05-25T09:39:19.449182Z",
     "iopub.status.idle": "2025-05-25T09:39:19.461532Z",
     "shell.execute_reply": "2025-05-25T09:39:19.460370Z"
    },
    "papermill": {
     "duration": 0.019731,
     "end_time": "2025-05-25T09:39:19.463941",
     "exception": false,
     "start_time": "2025-05-25T09:39:19.444210",
     "status": "completed"
    },
    "tags": []
   },
   "outputs": [
    {
     "name": "stdout",
     "output_type": "stream",
     "text": [
      "8996\n"
     ]
    },
    {
     "data": {
      "application/javascript": [
       "parent.postMessage({\"jupyterEvent\": \"custom.exercise_interaction\", \"data\": {\"outcomeType\": 1, \"valueTowardsCompletion\": 0.25, \"interactionType\": 1, \"questionType\": 1, \"questionId\": \"3_CountMissingPrices\", \"learnToolsVersion\": \"0.3.5\", \"failureMessage\": \"\", \"exceptionClass\": \"\", \"trace\": \"\"}}, \"*\")"
      ],
      "text/plain": [
       "<IPython.core.display.Javascript object>"
      ]
     },
     "metadata": {},
     "output_type": "display_data"
    },
    {
     "data": {
      "text/markdown": [
       "<span style=\"color:#33cc33\">Correct</span>"
      ],
      "text/plain": [
       "Correct"
      ]
     },
     "metadata": {},
     "output_type": "display_data"
    }
   ],
   "source": [
    "n_missing_prices = pd.isnull(reviews['price']).sum()\n",
    "print(n_missing_prices)\n",
    "# Check your answer\n",
    "q3.check()"
   ]
  },
  {
   "cell_type": "code",
   "execution_count": 7,
   "id": "269a78eb",
   "metadata": {
    "execution": {
     "iopub.execute_input": "2025-05-25T09:39:19.475252Z",
     "iopub.status.busy": "2025-05-25T09:39:19.474917Z",
     "iopub.status.idle": "2025-05-25T09:39:19.487849Z",
     "shell.execute_reply": "2025-05-25T09:39:19.486872Z"
    },
    "papermill": {
     "duration": 0.020555,
     "end_time": "2025-05-25T09:39:19.489351",
     "exception": false,
     "start_time": "2025-05-25T09:39:19.468796",
     "status": "completed"
    },
    "tags": []
   },
   "outputs": [
    {
     "data": {
      "application/javascript": [
       "parent.postMessage({\"jupyterEvent\": \"custom.exercise_interaction\", \"data\": {\"interactionType\": 2, \"questionType\": 1, \"questionId\": \"3_CountMissingPrices\", \"learnToolsVersion\": \"0.3.5\", \"valueTowardsCompletion\": 0.0, \"failureMessage\": \"\", \"exceptionClass\": \"\", \"trace\": \"\", \"outcomeType\": 4}}, \"*\")"
      ],
      "text/plain": [
       "<IPython.core.display.Javascript object>"
      ]
     },
     "metadata": {},
     "output_type": "display_data"
    },
    {
     "data": {
      "text/markdown": [
       "<span style=\"color:#3366cc\">Hint:</span> Use `pd.isnull()`."
      ],
      "text/plain": [
       "Hint: Use `pd.isnull()`."
      ]
     },
     "metadata": {},
     "output_type": "display_data"
    },
    {
     "data": {
      "application/javascript": [
       "parent.postMessage({\"jupyterEvent\": \"custom.exercise_interaction\", \"data\": {\"interactionType\": 3, \"questionType\": 1, \"questionId\": \"3_CountMissingPrices\", \"learnToolsVersion\": \"0.3.5\", \"valueTowardsCompletion\": 0.0, \"failureMessage\": \"\", \"exceptionClass\": \"\", \"trace\": \"\", \"outcomeType\": 4}}, \"*\")"
      ],
      "text/plain": [
       "<IPython.core.display.Javascript object>"
      ]
     },
     "metadata": {},
     "output_type": "display_data"
    },
    {
     "data": {
      "text/markdown": [
       "<span style=\"color:#33cc99\">Solution:</span> \n",
       "```python\n",
       "missing_price_reviews = reviews[reviews.price.isnull()]\n",
       "n_missing_prices = len(missing_price_reviews)\n",
       "# Cute alternative solution: if we sum a boolean series, True is treated as 1 and False as 0\n",
       "n_missing_prices = reviews.price.isnull().sum()\n",
       "# or equivalently:\n",
       "n_missing_prices = pd.isnull(reviews.price).sum()\n",
       "\n",
       "```"
      ],
      "text/plain": [
       "Solution: \n",
       "```python\n",
       "missing_price_reviews = reviews[reviews.price.isnull()]\n",
       "n_missing_prices = len(missing_price_reviews)\n",
       "# Cute alternative solution: if we sum a boolean series, True is treated as 1 and False as 0\n",
       "n_missing_prices = reviews.price.isnull().sum()\n",
       "# or equivalently:\n",
       "n_missing_prices = pd.isnull(reviews.price).sum()\n",
       "\n",
       "```"
      ]
     },
     "metadata": {},
     "output_type": "display_data"
    }
   ],
   "source": [
    "q3.hint()\n",
    "q3.solution()"
   ]
  },
  {
   "cell_type": "markdown",
   "id": "2b9e8e09",
   "metadata": {
    "papermill": {
     "duration": 0.004341,
     "end_time": "2025-05-25T09:39:19.498588",
     "exception": false,
     "start_time": "2025-05-25T09:39:19.494247",
     "status": "completed"
    },
    "tags": []
   },
   "source": [
    "## 4.\n",
    "What are the most common wine-producing regions? Create a Series counting the number of times each value occurs in the `region_1` field. This field is often missing data, so replace missing values with `Unknown`. Sort in descending order.  Your output should look something like this:\n",
    "\n",
    "```\n",
    "Unknown                    21247\n",
    "Napa Valley                 4480\n",
    "                           ...  \n",
    "Bardolino Superiore            1\n",
    "Primitivo del Tarantino        1\n",
    "Name: region_1, Length: 1230, dtype: int64\n",
    "```"
   ]
  },
  {
   "cell_type": "code",
   "execution_count": 8,
   "id": "b2d9c687",
   "metadata": {
    "execution": {
     "iopub.execute_input": "2025-05-25T09:39:19.509392Z",
     "iopub.status.busy": "2025-05-25T09:39:19.509079Z",
     "iopub.status.idle": "2025-05-25T09:39:19.561176Z",
     "shell.execute_reply": "2025-05-25T09:39:19.560140Z"
    },
    "papermill": {
     "duration": 0.059667,
     "end_time": "2025-05-25T09:39:19.562853",
     "exception": false,
     "start_time": "2025-05-25T09:39:19.503186",
     "status": "completed"
    },
    "tags": []
   },
   "outputs": [
    {
     "data": {
      "application/javascript": [
       "parent.postMessage({\"jupyterEvent\": \"custom.exercise_interaction\", \"data\": {\"outcomeType\": 1, \"valueTowardsCompletion\": 0.25, \"interactionType\": 1, \"questionType\": 2, \"questionId\": \"4_ReviewsPerRegion\", \"learnToolsVersion\": \"0.3.5\", \"failureMessage\": \"\", \"exceptionClass\": \"\", \"trace\": \"\"}}, \"*\")"
      ],
      "text/plain": [
       "<IPython.core.display.Javascript object>"
      ]
     },
     "metadata": {},
     "output_type": "display_data"
    },
    {
     "data": {
      "text/markdown": [
       "<span style=\"color:#33cc33\">Correct</span>"
      ],
      "text/plain": [
       "Correct"
      ]
     },
     "metadata": {},
     "output_type": "display_data"
    }
   ],
   "source": [
    "reviews_per_region = reviews.region_1.fillna(\"Unknown\").value_counts().sort_values(ascending = False)\n",
    "# Check your answer\n",
    "q4.check()"
   ]
  },
  {
   "cell_type": "code",
   "execution_count": 9,
   "id": "24ef1d52",
   "metadata": {
    "execution": {
     "iopub.execute_input": "2025-05-25T09:39:19.574815Z",
     "iopub.status.busy": "2025-05-25T09:39:19.574435Z",
     "iopub.status.idle": "2025-05-25T09:39:19.583467Z",
     "shell.execute_reply": "2025-05-25T09:39:19.582527Z"
    },
    "papermill": {
     "duration": 0.017174,
     "end_time": "2025-05-25T09:39:19.584968",
     "exception": false,
     "start_time": "2025-05-25T09:39:19.567794",
     "status": "completed"
    },
    "tags": []
   },
   "outputs": [
    {
     "data": {
      "text/plain": [
       "region_1\n",
       "Unknown                 21247\n",
       "Napa Valley              4480\n",
       "Columbia Valley (WA)     4124\n",
       "Russian River Valley     3091\n",
       "California               2629\n",
       "                        ...  \n",
       "Offida Rosso                1\n",
       "Corton Perrières            1\n",
       "Isle St. George             1\n",
       "Geelong                     1\n",
       "Paestum                     1\n",
       "Name: count, Length: 1230, dtype: int64"
      ]
     },
     "execution_count": 9,
     "metadata": {},
     "output_type": "execute_result"
    }
   ],
   "source": [
    "reviews_per_region"
   ]
  },
  {
   "cell_type": "code",
   "execution_count": 10,
   "id": "504bab9b",
   "metadata": {
    "execution": {
     "iopub.execute_input": "2025-05-25T09:39:19.596229Z",
     "iopub.status.busy": "2025-05-25T09:39:19.595905Z",
     "iopub.status.idle": "2025-05-25T09:39:19.607471Z",
     "shell.execute_reply": "2025-05-25T09:39:19.606205Z"
    },
    "papermill": {
     "duration": 0.019096,
     "end_time": "2025-05-25T09:39:19.609176",
     "exception": false,
     "start_time": "2025-05-25T09:39:19.590080",
     "status": "completed"
    },
    "tags": []
   },
   "outputs": [
    {
     "data": {
      "application/javascript": [
       "parent.postMessage({\"jupyterEvent\": \"custom.exercise_interaction\", \"data\": {\"interactionType\": 2, \"questionType\": 2, \"questionId\": \"4_ReviewsPerRegion\", \"learnToolsVersion\": \"0.3.5\", \"valueTowardsCompletion\": 0.0, \"failureMessage\": \"\", \"exceptionClass\": \"\", \"trace\": \"\", \"outcomeType\": 4}}, \"*\")"
      ],
      "text/plain": [
       "<IPython.core.display.Javascript object>"
      ]
     },
     "metadata": {},
     "output_type": "display_data"
    },
    {
     "data": {
      "text/markdown": [
       "<span style=\"color:#3366cc\">Hint:</span> Use `fillna()`, `value_counts()`, and `sort_values()`."
      ],
      "text/plain": [
       "Hint: Use `fillna()`, `value_counts()`, and `sort_values()`."
      ]
     },
     "metadata": {},
     "output_type": "display_data"
    },
    {
     "data": {
      "application/javascript": [
       "parent.postMessage({\"jupyterEvent\": \"custom.exercise_interaction\", \"data\": {\"interactionType\": 3, \"questionType\": 2, \"questionId\": \"4_ReviewsPerRegion\", \"learnToolsVersion\": \"0.3.5\", \"valueTowardsCompletion\": 0.0, \"failureMessage\": \"\", \"exceptionClass\": \"\", \"trace\": \"\", \"outcomeType\": 4}}, \"*\")"
      ],
      "text/plain": [
       "<IPython.core.display.Javascript object>"
      ]
     },
     "metadata": {},
     "output_type": "display_data"
    },
    {
     "data": {
      "text/markdown": [
       "<span style=\"color:#33cc99\">Solution:</span> \n",
       "```python\n",
       "reviews_per_region = reviews.region_1.fillna('Unknown').value_counts().sort_values(ascending=False)\n",
       "```"
      ],
      "text/plain": [
       "Solution: \n",
       "```python\n",
       "reviews_per_region = reviews.region_1.fillna('Unknown').value_counts().sort_values(ascending=False)\n",
       "```"
      ]
     },
     "metadata": {},
     "output_type": "display_data"
    }
   ],
   "source": [
    "q4.hint()\n",
    "q4.solution()"
   ]
  },
  {
   "cell_type": "markdown",
   "id": "cca23670",
   "metadata": {
    "papermill": {
     "duration": 0.005181,
     "end_time": "2025-05-25T09:39:19.619910",
     "exception": false,
     "start_time": "2025-05-25T09:39:19.614729",
     "status": "completed"
    },
    "tags": []
   },
   "source": [
    "# Keep going\n",
    "\n",
    "Move on to **[renaming and combining](https://www.kaggle.com/residentmario/renaming-and-combining)**."
   ]
  },
  {
   "cell_type": "markdown",
   "id": "60b9927e",
   "metadata": {
    "papermill": {
     "duration": 0.004913,
     "end_time": "2025-05-25T09:39:19.630220",
     "exception": false,
     "start_time": "2025-05-25T09:39:19.625307",
     "status": "completed"
    },
    "tags": []
   },
   "source": [
    "---\n",
    "\n",
    "\n",
    "\n",
    "\n",
    "*Have questions or comments? Visit the [course discussion forum](https://www.kaggle.com/learn/pandas/discussion) to chat with other learners.*"
   ]
  }
 ],
 "metadata": {
  "kaggle": {
   "accelerator": "none",
   "dataSources": [
    {
     "datasetId": 655,
     "sourceId": 1252,
     "sourceType": "datasetVersion"
    },
    {
     "datasetId": 2321,
     "sourceId": 3919,
     "sourceType": "datasetVersion"
    },
    {
     "datasetId": 2894,
     "sourceId": 4877,
     "sourceType": "datasetVersion"
    },
    {
     "datasetId": 3491,
     "sourceId": 5624,
     "sourceType": "datasetVersion"
    },
    {
     "datasetId": 1442,
     "sourceId": 8172,
     "sourceType": "datasetVersion"
    },
    {
     "datasetId": 9366,
     "sourceId": 13206,
     "sourceType": "datasetVersion"
    },
    {
     "datasetId": 179555,
     "sourceId": 403916,
     "sourceType": "datasetVersion"
    },
    {
     "datasetId": 4549,
     "sourceId": 466349,
     "sourceType": "datasetVersion"
    },
    {
     "datasetId": 2478,
     "sourceId": 1151655,
     "sourceType": "datasetVersion"
    },
    {
     "datasetId": 10128,
     "sourceId": 5438389,
     "sourceType": "datasetVersion"
    }
   ],
   "isGpuEnabled": false,
   "isInternetEnabled": false,
   "language": "python",
   "sourceType": "notebook"
  },
  "kernelspec": {
   "display_name": "Python 3",
   "language": "python",
   "name": "python3"
  },
  "language_info": {
   "codemirror_mode": {
    "name": "ipython",
    "version": 3
   },
   "file_extension": ".py",
   "mimetype": "text/x-python",
   "name": "python",
   "nbconvert_exporter": "python",
   "pygments_lexer": "ipython3",
   "version": "3.11.11"
  },
  "papermill": {
   "default_parameters": {},
   "duration": 13.616892,
   "end_time": "2025-05-25T09:39:20.256875",
   "environment_variables": {},
   "exception": null,
   "input_path": "__notebook__.ipynb",
   "output_path": "__notebook__.ipynb",
   "parameters": {},
   "start_time": "2025-05-25T09:39:06.639983",
   "version": "2.6.0"
  }
 },
 "nbformat": 4,
 "nbformat_minor": 5
}
