{
 "cells": [
  {
   "cell_type": "markdown",
   "id": "95b74760",
   "metadata": {
    "papermill": {
     "duration": 0.003311,
     "end_time": "2025-05-25T15:57:40.876310",
     "exception": false,
     "start_time": "2025-05-25T15:57:40.872999",
     "status": "completed"
    },
    "tags": []
   },
   "source": [
    "**This notebook is an exercise in the [Introduction to Machine Learning](https://www.kaggle.com/learn/intro-to-machine-learning) course.  You can reference the tutorial at [this link](https://www.kaggle.com/dansbecker/underfitting-and-overfitting).**\n",
    "\n",
    "---\n"
   ]
  },
  {
   "cell_type": "markdown",
   "id": "6db7c4f8",
   "metadata": {
    "papermill": {
     "duration": 0.002433,
     "end_time": "2025-05-25T15:57:40.881782",
     "exception": false,
     "start_time": "2025-05-25T15:57:40.879349",
     "status": "completed"
    },
    "tags": []
   },
   "source": [
    "## Recap\n",
    "You've built your first model, and now it's time to optimize the size of the tree to make better predictions. Run this cell to set up your coding environment where the previous step left off."
   ]
  },
  {
   "cell_type": "code",
   "execution_count": 1,
   "id": "e05225a3",
   "metadata": {
    "execution": {
     "iopub.execute_input": "2025-05-25T15:57:40.888835Z",
     "iopub.status.busy": "2025-05-25T15:57:40.888052Z",
     "iopub.status.idle": "2025-05-25T15:57:45.669867Z",
     "shell.execute_reply": "2025-05-25T15:57:45.668899Z"
    },
    "papermill": {
     "duration": 4.786927,
     "end_time": "2025-05-25T15:57:45.671314",
     "exception": false,
     "start_time": "2025-05-25T15:57:40.884387",
     "status": "completed"
    },
    "tags": []
   },
   "outputs": [
    {
     "name": "stdout",
     "output_type": "stream",
     "text": [
      "Validation MAE: 29,653\n",
      "\n",
      "Setup complete\n"
     ]
    }
   ],
   "source": [
    "# Code you have previously used to load data\n",
    "import pandas as pd\n",
    "from sklearn.metrics import mean_absolute_error\n",
    "from sklearn.model_selection import train_test_split\n",
    "from sklearn.tree import DecisionTreeRegressor\n",
    "\n",
    "\n",
    "# Path of the file to read\n",
    "iowa_file_path = '../input/home-data-for-ml-course/train.csv'\n",
    "\n",
    "home_data = pd.read_csv(iowa_file_path)\n",
    "# Create target object and call it y\n",
    "y = home_data.SalePrice\n",
    "# Create X\n",
    "features = ['LotArea', 'YearBuilt', '1stFlrSF', '2ndFlrSF', 'FullBath', 'BedroomAbvGr', 'TotRmsAbvGrd']\n",
    "X = home_data[features]\n",
    "\n",
    "# Split into validation and training data\n",
    "train_X, val_X, train_y, val_y = train_test_split(X, y, random_state=1)\n",
    "\n",
    "# Specify Model\n",
    "iowa_model = DecisionTreeRegressor(random_state=1)\n",
    "# Fit Model\n",
    "iowa_model.fit(train_X, train_y)\n",
    "\n",
    "# Make validation predictions and calculate mean absolute error\n",
    "val_predictions = iowa_model.predict(val_X)\n",
    "val_mae = mean_absolute_error(val_predictions, val_y)\n",
    "print(\"Validation MAE: {:,.0f}\".format(val_mae))\n",
    "\n",
    "# Set up code checking\n",
    "from learntools.core import binder\n",
    "binder.bind(globals())\n",
    "from learntools.machine_learning.ex5 import *\n",
    "print(\"\\nSetup complete\")"
   ]
  },
  {
   "cell_type": "markdown",
   "id": "0dd904cb",
   "metadata": {
    "papermill": {
     "duration": 0.002507,
     "end_time": "2025-05-25T15:57:45.676859",
     "exception": false,
     "start_time": "2025-05-25T15:57:45.674352",
     "status": "completed"
    },
    "tags": []
   },
   "source": [
    "# Exercises\n",
    "You could write the function `get_mae` yourself. For now, we'll supply it. This is the same function you read about in the previous lesson. Just run the cell below."
   ]
  },
  {
   "cell_type": "code",
   "execution_count": 2,
   "id": "d18cc70d",
   "metadata": {
    "execution": {
     "iopub.execute_input": "2025-05-25T15:57:45.683679Z",
     "iopub.status.busy": "2025-05-25T15:57:45.682997Z",
     "iopub.status.idle": "2025-05-25T15:57:45.687677Z",
     "shell.execute_reply": "2025-05-25T15:57:45.686946Z"
    },
    "papermill": {
     "duration": 0.009536,
     "end_time": "2025-05-25T15:57:45.688980",
     "exception": false,
     "start_time": "2025-05-25T15:57:45.679444",
     "status": "completed"
    },
    "tags": []
   },
   "outputs": [],
   "source": [
    "def get_mae(max_leaf_nodes, train_X, val_X, train_y, val_y):\n",
    "    model = DecisionTreeRegressor(max_leaf_nodes=max_leaf_nodes, random_state=0)\n",
    "    model.fit(train_X, train_y)\n",
    "    preds_val = model.predict(val_X)\n",
    "    mae = mean_absolute_error(val_y, preds_val)\n",
    "    return(mae)"
   ]
  },
  {
   "cell_type": "markdown",
   "id": "f104a68f",
   "metadata": {
    "papermill": {
     "duration": 0.002431,
     "end_time": "2025-05-25T15:57:45.694272",
     "exception": false,
     "start_time": "2025-05-25T15:57:45.691841",
     "status": "completed"
    },
    "tags": []
   },
   "source": [
    "## Step 1: Compare Different Tree Sizes\n",
    "Write a loop that tries the following values for *max_leaf_nodes* from a set of possible values.\n",
    "\n",
    "Call the *get_mae* function on each value of max_leaf_nodes. Store the output in some way that allows you to select the value of `max_leaf_nodes` that gives the most accurate model on your data."
   ]
  },
  {
   "cell_type": "code",
   "execution_count": 3,
   "id": "e3937ba8",
   "metadata": {
    "execution": {
     "iopub.execute_input": "2025-05-25T15:57:45.700785Z",
     "iopub.status.busy": "2025-05-25T15:57:45.700446Z",
     "iopub.status.idle": "2025-05-25T15:57:45.745327Z",
     "shell.execute_reply": "2025-05-25T15:57:45.744449Z"
    },
    "papermill": {
     "duration": 0.050116,
     "end_time": "2025-05-25T15:57:45.746863",
     "exception": false,
     "start_time": "2025-05-25T15:57:45.696747",
     "status": "completed"
    },
    "tags": []
   },
   "outputs": [
    {
     "data": {
      "application/javascript": [
       "parent.postMessage({\"jupyterEvent\": \"custom.exercise_interaction\", \"data\": {\"outcomeType\": 1, \"valueTowardsCompletion\": 0.5, \"interactionType\": 1, \"questionType\": 1, \"questionId\": \"1_BestTreeSize\", \"learnToolsVersion\": \"0.3.5\", \"failureMessage\": \"\", \"exceptionClass\": \"\", \"trace\": \"\"}}, \"*\")"
      ],
      "text/plain": [
       "<IPython.core.display.Javascript object>"
      ]
     },
     "metadata": {},
     "output_type": "display_data"
    },
    {
     "data": {
      "text/markdown": [
       "<span style=\"color:#33cc33\">Correct</span>"
      ],
      "text/plain": [
       "Correct"
      ]
     },
     "metadata": {},
     "output_type": "display_data"
    }
   ],
   "source": [
    "candidate_max_leaf_nodes = [5, 25, 50, 100, 250, 500]\n",
    "# Write loop to find the ideal tree size from candidate_max_leaf_nodes\n",
    "i=0\n",
    "for s in candidate_max_leaf_nodes:\n",
    "    if i==0:\n",
    "        mini = get_mae(s, train_X,  val_X, train_y, val_y)\n",
    "        i = s\n",
    "    else:\n",
    "        prev = mini\n",
    "        mini = min(mini, get_mae(s, train_X,  val_X, train_y, val_y))\n",
    "        i = s if mini < prev else i\n",
    "      \n",
    "# Store the best value of max_leaf_nodes (it will be either 5, 25, 50, 100, 250 or 500)\n",
    "best_tree_size = i\n",
    "\n",
    "# Check your answer\n",
    "step_1.check()"
   ]
  },
  {
   "cell_type": "code",
   "execution_count": 4,
   "id": "48f74d10",
   "metadata": {
    "execution": {
     "iopub.execute_input": "2025-05-25T15:57:45.753720Z",
     "iopub.status.busy": "2025-05-25T15:57:45.753387Z",
     "iopub.status.idle": "2025-05-25T15:57:45.758039Z",
     "shell.execute_reply": "2025-05-25T15:57:45.757016Z"
    },
    "papermill": {
     "duration": 0.009628,
     "end_time": "2025-05-25T15:57:45.759434",
     "exception": false,
     "start_time": "2025-05-25T15:57:45.749806",
     "status": "completed"
    },
    "tags": []
   },
   "outputs": [
    {
     "name": "stdout",
     "output_type": "stream",
     "text": [
      "100\n"
     ]
    }
   ],
   "source": [
    "print(i)"
   ]
  },
  {
   "cell_type": "code",
   "execution_count": 5,
   "id": "65c65248",
   "metadata": {
    "execution": {
     "iopub.execute_input": "2025-05-25T15:57:45.766649Z",
     "iopub.status.busy": "2025-05-25T15:57:45.766031Z",
     "iopub.status.idle": "2025-05-25T15:57:45.769338Z",
     "shell.execute_reply": "2025-05-25T15:57:45.768765Z"
    },
    "papermill": {
     "duration": 0.008055,
     "end_time": "2025-05-25T15:57:45.770601",
     "exception": false,
     "start_time": "2025-05-25T15:57:45.762546",
     "status": "completed"
    },
    "tags": []
   },
   "outputs": [],
   "source": [
    "# The lines below will show you a hint or the solution.\n",
    "# step_1.hint() \n",
    "# step_1.solution()"
   ]
  },
  {
   "cell_type": "markdown",
   "id": "b2eeb4fb",
   "metadata": {
    "papermill": {
     "duration": 0.002601,
     "end_time": "2025-05-25T15:57:45.776109",
     "exception": false,
     "start_time": "2025-05-25T15:57:45.773508",
     "status": "completed"
    },
    "tags": []
   },
   "source": [
    "## Step 2: Fit Model Using All Data\n",
    "You know the best tree size. If you were going to deploy this model in practice, you would make it even more accurate by using all of the data and keeping that tree size.  That is, you don't need to hold out the validation data now that you've made all your modeling decisions."
   ]
  },
  {
   "cell_type": "code",
   "execution_count": 6,
   "id": "6fb6714f",
   "metadata": {
    "execution": {
     "iopub.execute_input": "2025-05-25T15:57:45.782837Z",
     "iopub.status.busy": "2025-05-25T15:57:45.782471Z",
     "iopub.status.idle": "2025-05-25T15:57:45.796680Z",
     "shell.execute_reply": "2025-05-25T15:57:45.795914Z"
    },
    "papermill": {
     "duration": 0.019137,
     "end_time": "2025-05-25T15:57:45.798015",
     "exception": false,
     "start_time": "2025-05-25T15:57:45.778878",
     "status": "completed"
    },
    "tags": []
   },
   "outputs": [
    {
     "data": {
      "application/javascript": [
       "parent.postMessage({\"jupyterEvent\": \"custom.exercise_interaction\", \"data\": {\"outcomeType\": 1, \"valueTowardsCompletion\": 0.5, \"interactionType\": 1, \"questionType\": 2, \"questionId\": \"2_FitModelWithAllData\", \"learnToolsVersion\": \"0.3.5\", \"failureMessage\": \"\", \"exceptionClass\": \"\", \"trace\": \"\"}}, \"*\")"
      ],
      "text/plain": [
       "<IPython.core.display.Javascript object>"
      ]
     },
     "metadata": {},
     "output_type": "display_data"
    },
    {
     "data": {
      "text/markdown": [
       "<span style=\"color:#33cc33\">Correct</span>"
      ],
      "text/plain": [
       "Correct"
      ]
     },
     "metadata": {},
     "output_type": "display_data"
    }
   ],
   "source": [
    "# Fill in argument to make optimal size and uncomment\n",
    "final_model = DecisionTreeRegressor(max_leaf_nodes = i,random_state = 1)\n",
    "\n",
    "# fit the final model and uncomment the next two lines\n",
    "final_model.fit(X,y)\n",
    "\n",
    "# Check your answer\n",
    "step_2.check()"
   ]
  },
  {
   "cell_type": "code",
   "execution_count": 7,
   "id": "31ef9471",
   "metadata": {
    "execution": {
     "iopub.execute_input": "2025-05-25T15:57:45.805473Z",
     "iopub.status.busy": "2025-05-25T15:57:45.805189Z",
     "iopub.status.idle": "2025-05-25T15:57:45.808558Z",
     "shell.execute_reply": "2025-05-25T15:57:45.807930Z"
    },
    "papermill": {
     "duration": 0.008507,
     "end_time": "2025-05-25T15:57:45.809778",
     "exception": false,
     "start_time": "2025-05-25T15:57:45.801271",
     "status": "completed"
    },
    "tags": []
   },
   "outputs": [],
   "source": [
    "# step_2.hint()\n",
    "# step_2.solution()"
   ]
  },
  {
   "cell_type": "markdown",
   "id": "09c80727",
   "metadata": {
    "papermill": {
     "duration": 0.002972,
     "end_time": "2025-05-25T15:57:45.815983",
     "exception": false,
     "start_time": "2025-05-25T15:57:45.813011",
     "status": "completed"
    },
    "tags": []
   },
   "source": [
    "You've tuned this model and improved your results. But we are still using Decision Tree models, which are not very sophisticated by modern machine learning standards. In the next step you will learn to use Random Forests to improve your models even more.\n",
    "\n",
    "# Keep Going\n",
    "\n",
    "You are ready for **[Random Forests](https://www.kaggle.com/dansbecker/random-forests).**\n"
   ]
  },
  {
   "cell_type": "markdown",
   "id": "dcb881f3",
   "metadata": {
    "papermill": {
     "duration": 0.002836,
     "end_time": "2025-05-25T15:57:45.821863",
     "exception": false,
     "start_time": "2025-05-25T15:57:45.819027",
     "status": "completed"
    },
    "tags": []
   },
   "source": [
    "---\n",
    "\n",
    "\n",
    "\n",
    "\n",
    "*Have questions or comments? Visit the [course discussion forum](https://www.kaggle.com/learn/intro-to-machine-learning/discussion) to chat with other learners.*"
   ]
  }
 ],
 "metadata": {
  "kaggle": {
   "accelerator": "none",
   "dataSources": [
    {
     "databundleVersionId": 111096,
     "sourceId": 10211,
     "sourceType": "competition"
    },
    {
     "datasetId": 11167,
     "sourceId": 15520,
     "sourceType": "datasetVersion"
    },
    {
     "datasetId": 2709,
     "sourceId": 38454,
     "sourceType": "datasetVersion"
    }
   ],
   "isGpuEnabled": false,
   "isInternetEnabled": false,
   "language": "python",
   "sourceType": "notebook"
  },
  "kernelspec": {
   "display_name": "Python 3",
   "language": "python",
   "name": "python3"
  },
  "language_info": {
   "codemirror_mode": {
    "name": "ipython",
    "version": 3
   },
   "file_extension": ".py",
   "mimetype": "text/x-python",
   "name": "python",
   "nbconvert_exporter": "python",
   "pygments_lexer": "ipython3",
   "version": "3.11.11"
  },
  "papermill": {
   "default_parameters": {},
   "duration": 11.253917,
   "end_time": "2025-05-25T15:57:46.544716",
   "environment_variables": {},
   "exception": null,
   "input_path": "__notebook__.ipynb",
   "output_path": "__notebook__.ipynb",
   "parameters": {},
   "start_time": "2025-05-25T15:57:35.290799",
   "version": "2.6.0"
  }
 },
 "nbformat": 4,
 "nbformat_minor": 5
}
