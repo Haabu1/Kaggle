{
 "cells": [
  {
   "cell_type": "markdown",
   "id": "3e66a7f8",
   "metadata": {
    "papermill": {
     "duration": 0.003921,
     "end_time": "2025-05-25T10:48:24.494396",
     "exception": false,
     "start_time": "2025-05-25T10:48:24.490475",
     "status": "completed"
    },
    "tags": []
   },
   "source": [
    "**This notebook is an exercise in the [Introduction to Machine Learning](https://www.kaggle.com/learn/intro-to-machine-learning) course.  You can reference the tutorial at [this link](https://www.kaggle.com/dansbecker/model-validation).**\n",
    "\n",
    "---\n"
   ]
  },
  {
   "cell_type": "markdown",
   "id": "0bfc3d00",
   "metadata": {
    "papermill": {
     "duration": 0.002805,
     "end_time": "2025-05-25T10:48:24.500543",
     "exception": false,
     "start_time": "2025-05-25T10:48:24.497738",
     "status": "completed"
    },
    "tags": []
   },
   "source": [
    "## Recap\n",
    "You've built a model. In this exercise you will test how good your model is.\n",
    "\n",
    "Run the cell below to set up your coding environment where the previous exercise left off."
   ]
  },
  {
   "cell_type": "code",
   "execution_count": 1,
   "id": "3cf91bda",
   "metadata": {
    "execution": {
     "iopub.execute_input": "2025-05-25T10:48:24.507953Z",
     "iopub.status.busy": "2025-05-25T10:48:24.507617Z",
     "iopub.status.idle": "2025-05-25T10:48:28.339393Z",
     "shell.execute_reply": "2025-05-25T10:48:28.338309Z"
    },
    "papermill": {
     "duration": 3.837487,
     "end_time": "2025-05-25T10:48:28.340992",
     "exception": false,
     "start_time": "2025-05-25T10:48:24.503505",
     "status": "completed"
    },
    "tags": []
   },
   "outputs": [
    {
     "name": "stdout",
     "output_type": "stream",
     "text": [
      "First in-sample predictions: [208500. 181500. 223500. 140000. 250000.]\n",
      "Actual target values for those homes: [208500, 181500, 223500, 140000, 250000]\n",
      "Setup Complete\n"
     ]
    }
   ],
   "source": [
    "# Code you have previously used to load data\n",
    "import pandas as pd\n",
    "from sklearn.tree import DecisionTreeRegressor\n",
    "\n",
    "# Path of the file to read\n",
    "iowa_file_path = '../input/home-data-for-ml-course/train.csv'\n",
    "\n",
    "home_data = pd.read_csv(iowa_file_path)\n",
    "y = home_data.SalePrice\n",
    "feature_columns = ['LotArea', 'YearBuilt', '1stFlrSF', '2ndFlrSF', 'FullBath', 'BedroomAbvGr', 'TotRmsAbvGrd']\n",
    "X = home_data[feature_columns]\n",
    "\n",
    "# Specify Model\n",
    "iowa_model = DecisionTreeRegressor()\n",
    "# Fit Model\n",
    "iowa_model.fit(X, y)\n",
    "\n",
    "print(\"First in-sample predictions:\", iowa_model.predict(X.head()))\n",
    "print(\"Actual target values for those homes:\", y.head().tolist())\n",
    "\n",
    "# Set up code checking\n",
    "from learntools.core import binder\n",
    "binder.bind(globals())\n",
    "from learntools.machine_learning.ex4 import *\n",
    "print(\"Setup Complete\")"
   ]
  },
  {
   "cell_type": "markdown",
   "id": "62648561",
   "metadata": {
    "papermill": {
     "duration": 0.002971,
     "end_time": "2025-05-25T10:48:28.347356",
     "exception": false,
     "start_time": "2025-05-25T10:48:28.344385",
     "status": "completed"
    },
    "tags": []
   },
   "source": [
    "# Exercises\n",
    "\n",
    "## Step 1: Split Your Data\n",
    "Use the `train_test_split` function to split up your data.\n",
    "\n",
    "Give it the argument `random_state=1` so the `check` functions know what to expect when verifying your code.\n",
    "\n",
    "Recall, your features are loaded in the DataFrame **X** and your target is loaded in **y**.\n"
   ]
  },
  {
   "cell_type": "code",
   "execution_count": 2,
   "id": "4ceee5c6",
   "metadata": {
    "execution": {
     "iopub.execute_input": "2025-05-25T10:48:28.355364Z",
     "iopub.status.busy": "2025-05-25T10:48:28.354703Z",
     "iopub.status.idle": "2025-05-25T10:48:28.369715Z",
     "shell.execute_reply": "2025-05-25T10:48:28.368771Z"
    },
    "papermill": {
     "duration": 0.02081,
     "end_time": "2025-05-25T10:48:28.371227",
     "exception": false,
     "start_time": "2025-05-25T10:48:28.350417",
     "status": "completed"
    },
    "tags": []
   },
   "outputs": [
    {
     "data": {
      "application/javascript": [
       "parent.postMessage({\"jupyterEvent\": \"custom.exercise_interaction\", \"data\": {\"outcomeType\": 1, \"valueTowardsCompletion\": 0.25, \"interactionType\": 1, \"questionType\": 2, \"questionId\": \"1_SplitData\", \"learnToolsVersion\": \"0.3.5\", \"failureMessage\": \"\", \"exceptionClass\": \"\", \"trace\": \"\"}}, \"*\")"
      ],
      "text/plain": [
       "<IPython.core.display.Javascript object>"
      ]
     },
     "metadata": {},
     "output_type": "display_data"
    },
    {
     "data": {
      "text/markdown": [
       "<span style=\"color:#33cc33\">Correct</span>"
      ],
      "text/plain": [
       "Correct"
      ]
     },
     "metadata": {},
     "output_type": "display_data"
    }
   ],
   "source": [
    "# Import the train_test_split function and uncomment\n",
    "from sklearn.model_selection import train_test_split\n",
    "\n",
    "# fill in and uncomment\n",
    "train_X, val_X, train_y, val_y = train_test_split(X,y,random_state = 1)\n",
    "\n",
    "# Check your answer\n",
    "step_1.check()"
   ]
  },
  {
   "cell_type": "code",
   "execution_count": 3,
   "id": "6ea50b1f",
   "metadata": {
    "execution": {
     "iopub.execute_input": "2025-05-25T10:48:28.379945Z",
     "iopub.status.busy": "2025-05-25T10:48:28.379607Z",
     "iopub.status.idle": "2025-05-25T10:48:28.383475Z",
     "shell.execute_reply": "2025-05-25T10:48:28.382625Z"
    },
    "papermill": {
     "duration": 0.009975,
     "end_time": "2025-05-25T10:48:28.384921",
     "exception": false,
     "start_time": "2025-05-25T10:48:28.374946",
     "status": "completed"
    },
    "tags": []
   },
   "outputs": [],
   "source": [
    "# The lines below will show you a hint or the solution.\n",
    "# step_1.hint() \n",
    "# step_1.solution()\n"
   ]
  },
  {
   "cell_type": "markdown",
   "id": "dd50809b",
   "metadata": {
    "papermill": {
     "duration": 0.003881,
     "end_time": "2025-05-25T10:48:28.392401",
     "exception": false,
     "start_time": "2025-05-25T10:48:28.388520",
     "status": "completed"
    },
    "tags": []
   },
   "source": [
    "## Step 2: Specify and Fit the Model\n",
    "\n",
    "Create a `DecisionTreeRegressor` model and fit it to the relevant data.\n",
    "Set `random_state` to 1 again when creating the model."
   ]
  },
  {
   "cell_type": "code",
   "execution_count": 4,
   "id": "57159275",
   "metadata": {
    "execution": {
     "iopub.execute_input": "2025-05-25T10:48:28.400474Z",
     "iopub.status.busy": "2025-05-25T10:48:28.400121Z",
     "iopub.status.idle": "2025-05-25T10:48:28.425647Z",
     "shell.execute_reply": "2025-05-25T10:48:28.424914Z"
    },
    "papermill": {
     "duration": 0.031216,
     "end_time": "2025-05-25T10:48:28.426998",
     "exception": false,
     "start_time": "2025-05-25T10:48:28.395782",
     "status": "completed"
    },
    "tags": []
   },
   "outputs": [
    {
     "name": "stdout",
     "output_type": "stream",
     "text": [
      "[186500. 184000. 130000.  92000. 164500. 220000. 335000. 144152. 215000.\n",
      " 262000.]\n",
      "[186500. 184000. 130000.  92000. 164500. 220000. 335000. 144152. 215000.\n",
      " 262000.]\n"
     ]
    },
    {
     "data": {
      "application/javascript": [
       "parent.postMessage({\"jupyterEvent\": \"custom.exercise_interaction\", \"data\": {\"outcomeType\": 1, \"valueTowardsCompletion\": 0.25, \"interactionType\": 1, \"questionType\": 2, \"questionId\": \"2_FitModelWithTrain\", \"learnToolsVersion\": \"0.3.5\", \"failureMessage\": \"\", \"exceptionClass\": \"\", \"trace\": \"\"}}, \"*\")"
      ],
      "text/plain": [
       "<IPython.core.display.Javascript object>"
      ]
     },
     "metadata": {},
     "output_type": "display_data"
    },
    {
     "data": {
      "text/markdown": [
       "<span style=\"color:#33cc33\">Correct</span>"
      ],
      "text/plain": [
       "Correct"
      ]
     },
     "metadata": {},
     "output_type": "display_data"
    }
   ],
   "source": [
    "# You imported DecisionTreeRegressor in your last exercise\n",
    "# and that code has been copied to the setup code above. So, no need to\n",
    "# import it again\n",
    "\n",
    "# Specify the model\n",
    "iowa_model = DecisionTreeRegressor(random_state = 1)\n",
    "\n",
    "# Fit iowa_model with the training data.\n",
    "iowa_model.fit(train_X, train_y)\n",
    "\n",
    "# Check your answer\n",
    "step_2.check()"
   ]
  },
  {
   "cell_type": "code",
   "execution_count": 5,
   "id": "26d4e972",
   "metadata": {
    "execution": {
     "iopub.execute_input": "2025-05-25T10:48:28.436451Z",
     "iopub.status.busy": "2025-05-25T10:48:28.436107Z",
     "iopub.status.idle": "2025-05-25T10:48:28.440472Z",
     "shell.execute_reply": "2025-05-25T10:48:28.439605Z"
    },
    "papermill": {
     "duration": 0.010737,
     "end_time": "2025-05-25T10:48:28.441901",
     "exception": false,
     "start_time": "2025-05-25T10:48:28.431164",
     "status": "completed"
    },
    "tags": []
   },
   "outputs": [],
   "source": [
    "# step_2.hint()\n",
    "# step_2.solution()"
   ]
  },
  {
   "cell_type": "markdown",
   "id": "204b9753",
   "metadata": {
    "papermill": {
     "duration": 0.003437,
     "end_time": "2025-05-25T10:48:28.449283",
     "exception": false,
     "start_time": "2025-05-25T10:48:28.445846",
     "status": "completed"
    },
    "tags": []
   },
   "source": [
    "## Step 3: Make Predictions with Validation data\n"
   ]
  },
  {
   "cell_type": "code",
   "execution_count": 6,
   "id": "8b94e963",
   "metadata": {
    "execution": {
     "iopub.execute_input": "2025-05-25T10:48:28.457724Z",
     "iopub.status.busy": "2025-05-25T10:48:28.457402Z",
     "iopub.status.idle": "2025-05-25T10:48:28.467454Z",
     "shell.execute_reply": "2025-05-25T10:48:28.466693Z"
    },
    "papermill": {
     "duration": 0.016034,
     "end_time": "2025-05-25T10:48:28.468920",
     "exception": false,
     "start_time": "2025-05-25T10:48:28.452886",
     "status": "completed"
    },
    "tags": []
   },
   "outputs": [
    {
     "data": {
      "application/javascript": [
       "parent.postMessage({\"jupyterEvent\": \"custom.exercise_interaction\", \"data\": {\"outcomeType\": 1, \"valueTowardsCompletion\": 0.25, \"interactionType\": 1, \"questionType\": 2, \"questionId\": \"3_ValPreds\", \"learnToolsVersion\": \"0.3.5\", \"failureMessage\": \"\", \"exceptionClass\": \"\", \"trace\": \"\"}}, \"*\")"
      ],
      "text/plain": [
       "<IPython.core.display.Javascript object>"
      ]
     },
     "metadata": {},
     "output_type": "display_data"
    },
    {
     "data": {
      "text/markdown": [
       "<span style=\"color:#33cc33\">Correct</span>"
      ],
      "text/plain": [
       "Correct"
      ]
     },
     "metadata": {},
     "output_type": "display_data"
    }
   ],
   "source": [
    "# Predict with all validation observations\n",
    "val_predictions = iowa_model.predict(val_X)\n",
    "\n",
    "# Check your answer\n",
    "step_3.check()"
   ]
  },
  {
   "cell_type": "code",
   "execution_count": 7,
   "id": "fcf7266b",
   "metadata": {
    "execution": {
     "iopub.execute_input": "2025-05-25T10:48:28.478026Z",
     "iopub.status.busy": "2025-05-25T10:48:28.477681Z",
     "iopub.status.idle": "2025-05-25T10:48:28.481579Z",
     "shell.execute_reply": "2025-05-25T10:48:28.480686Z"
    },
    "papermill": {
     "duration": 0.010235,
     "end_time": "2025-05-25T10:48:28.483117",
     "exception": false,
     "start_time": "2025-05-25T10:48:28.472882",
     "status": "completed"
    },
    "tags": []
   },
   "outputs": [],
   "source": [
    "# step_3.hint()\n",
    "# step_3.solution()"
   ]
  },
  {
   "cell_type": "markdown",
   "id": "62c80f59",
   "metadata": {
    "papermill": {
     "duration": 0.004126,
     "end_time": "2025-05-25T10:48:28.491285",
     "exception": false,
     "start_time": "2025-05-25T10:48:28.487159",
     "status": "completed"
    },
    "tags": []
   },
   "source": [
    "Inspect your predictions and actual values from validation data."
   ]
  },
  {
   "cell_type": "code",
   "execution_count": 8,
   "id": "e99676b5",
   "metadata": {
    "execution": {
     "iopub.execute_input": "2025-05-25T10:48:28.500391Z",
     "iopub.status.busy": "2025-05-25T10:48:28.500016Z",
     "iopub.status.idle": "2025-05-25T10:48:28.506348Z",
     "shell.execute_reply": "2025-05-25T10:48:28.505173Z"
    },
    "papermill": {
     "duration": 0.012833,
     "end_time": "2025-05-25T10:48:28.507947",
     "exception": false,
     "start_time": "2025-05-25T10:48:28.495114",
     "status": "completed"
    },
    "tags": []
   },
   "outputs": [
    {
     "name": "stdout",
     "output_type": "stream",
     "text": [
      "[186500. 184000. 130000.  92000. 164500.]\n",
      "258     231500\n",
      "267     179500\n",
      "288     122000\n",
      "649      84500\n",
      "1233    142000\n",
      "Name: SalePrice, dtype: int64\n"
     ]
    }
   ],
   "source": [
    "# print the top few validation predictions\n",
    "print(val_predictions[0:5])\n",
    "# print the top few actual prices from validation data\n",
    "print(val_y.head())"
   ]
  },
  {
   "cell_type": "markdown",
   "id": "79545f28",
   "metadata": {
    "papermill": {
     "duration": 0.003827,
     "end_time": "2025-05-25T10:48:28.515889",
     "exception": false,
     "start_time": "2025-05-25T10:48:28.512062",
     "status": "completed"
    },
    "tags": []
   },
   "source": [
    "What do you notice that is different from what you saw with in-sample predictions (which are printed after the top code cell in this page).\n",
    "\n",
    "Do you remember why validation predictions differ from in-sample (or training) predictions? This is an important idea from the last lesson.\n",
    "\n",
    "## Step 4: Calculate the Mean Absolute Error in Validation Data\n"
   ]
  },
  {
   "cell_type": "code",
   "execution_count": 9,
   "id": "c76de69c",
   "metadata": {
    "execution": {
     "iopub.execute_input": "2025-05-25T10:48:28.525481Z",
     "iopub.status.busy": "2025-05-25T10:48:28.524694Z",
     "iopub.status.idle": "2025-05-25T10:48:28.533072Z",
     "shell.execute_reply": "2025-05-25T10:48:28.532296Z"
    },
    "papermill": {
     "duration": 0.014506,
     "end_time": "2025-05-25T10:48:28.534274",
     "exception": false,
     "start_time": "2025-05-25T10:48:28.519768",
     "status": "completed"
    },
    "tags": []
   },
   "outputs": [
    {
     "data": {
      "application/javascript": [
       "parent.postMessage({\"jupyterEvent\": \"custom.exercise_interaction\", \"data\": {\"outcomeType\": 1, \"valueTowardsCompletion\": 0.25, \"interactionType\": 1, \"questionType\": 1, \"questionId\": \"4_MAE\", \"learnToolsVersion\": \"0.3.5\", \"failureMessage\": \"\", \"exceptionClass\": \"\", \"trace\": \"\"}}, \"*\")"
      ],
      "text/plain": [
       "<IPython.core.display.Javascript object>"
      ]
     },
     "metadata": {},
     "output_type": "display_data"
    },
    {
     "data": {
      "text/markdown": [
       "<span style=\"color:#33cc33\">Correct</span>"
      ],
      "text/plain": [
       "Correct"
      ]
     },
     "metadata": {},
     "output_type": "display_data"
    }
   ],
   "source": [
    "from sklearn.metrics import mean_absolute_error\n",
    "val_mae = mean_absolute_error(val_predictions,val_y)\n",
    "\n",
    "# uncomment following line to see the validation_mae\n",
    "#print(val_mae)\n",
    "\n",
    "# Check your answer\n",
    "step_4.check()"
   ]
  },
  {
   "cell_type": "code",
   "execution_count": 10,
   "id": "b5f13bef",
   "metadata": {
    "execution": {
     "iopub.execute_input": "2025-05-25T10:48:28.543769Z",
     "iopub.status.busy": "2025-05-25T10:48:28.543457Z",
     "iopub.status.idle": "2025-05-25T10:48:28.547224Z",
     "shell.execute_reply": "2025-05-25T10:48:28.546364Z"
    },
    "papermill": {
     "duration": 0.010367,
     "end_time": "2025-05-25T10:48:28.548824",
     "exception": false,
     "start_time": "2025-05-25T10:48:28.538457",
     "status": "completed"
    },
    "tags": []
   },
   "outputs": [],
   "source": [
    "# step_4.hint()\n",
    "# step_4.solution()"
   ]
  },
  {
   "cell_type": "markdown",
   "id": "e0368f6a",
   "metadata": {
    "papermill": {
     "duration": 0.003884,
     "end_time": "2025-05-25T10:48:28.556981",
     "exception": false,
     "start_time": "2025-05-25T10:48:28.553097",
     "status": "completed"
    },
    "tags": []
   },
   "source": [
    "Is that MAE good?  There isn't a general rule for what values are good that applies across applications. But you'll see how to use (and improve) this number in the next step.\n",
    "\n",
    "# Keep Going\n",
    "\n",
    "You are ready for **[Underfitting and Overfitting](https://www.kaggle.com/dansbecker/underfitting-and-overfitting).**\n"
   ]
  },
  {
   "cell_type": "markdown",
   "id": "3489106a",
   "metadata": {
    "papermill": {
     "duration": 0.003911,
     "end_time": "2025-05-25T10:48:28.565442",
     "exception": false,
     "start_time": "2025-05-25T10:48:28.561531",
     "status": "completed"
    },
    "tags": []
   },
   "source": [
    "---\n",
    "\n",
    "\n",
    "\n",
    "\n",
    "*Have questions or comments? Visit the [course discussion forum](https://www.kaggle.com/learn/intro-to-machine-learning/discussion) to chat with other learners.*"
   ]
  }
 ],
 "metadata": {
  "kaggle": {
   "accelerator": "none",
   "dataSources": [
    {
     "databundleVersionId": 111096,
     "sourceId": 10211,
     "sourceType": "competition"
    },
    {
     "datasetId": 11167,
     "sourceId": 15520,
     "sourceType": "datasetVersion"
    },
    {
     "datasetId": 2709,
     "sourceId": 38454,
     "sourceType": "datasetVersion"
    }
   ],
   "isGpuEnabled": false,
   "isInternetEnabled": false,
   "language": "python",
   "sourceType": "notebook"
  },
  "kernelspec": {
   "display_name": "Python 3",
   "language": "python",
   "name": "python3"
  },
  "language_info": {
   "codemirror_mode": {
    "name": "ipython",
    "version": 3
   },
   "file_extension": ".py",
   "mimetype": "text/x-python",
   "name": "python",
   "nbconvert_exporter": "python",
   "pygments_lexer": "ipython3",
   "version": "3.11.11"
  },
  "papermill": {
   "default_parameters": {},
   "duration": 9.499608,
   "end_time": "2025-05-25T10:48:29.190030",
   "environment_variables": {},
   "exception": null,
   "input_path": "__notebook__.ipynb",
   "output_path": "__notebook__.ipynb",
   "parameters": {},
   "start_time": "2025-05-25T10:48:19.690422",
   "version": "2.6.0"
  }
 },
 "nbformat": 4,
 "nbformat_minor": 5
}
